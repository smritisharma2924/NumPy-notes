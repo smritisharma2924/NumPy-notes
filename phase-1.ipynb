{
 "cells": [
  {
   "cell_type": "markdown",
   "id": "6346ee9b",
   "metadata": {},
   "source": [
    "## NumPy Array and basics"
   ]
  },
  {
   "cell_type": "code",
   "execution_count": 18,
   "id": "0d3e9ace",
   "metadata": {},
   "outputs": [],
   "source": [
    "import numpy as np"
   ]
  },
  {
   "cell_type": "markdown",
   "id": "76ed99c2",
   "metadata": {},
   "source": [
    "### Creating array from list\n",
    "\n",
    "The `np.array()` function is the most common way to **create NumPy arrays** from existing **Python lists** or **nested lists**.\n",
    "##### Syntax:\n",
    "```python\n",
    "np.array(object, dtype=None)\n",
    " • object → A Python list, tuple, or nested sequence.\n",
    " • dtype (optional) → Data type of array elements (int, float, etc.)."
   ]
  },
  {
   "cell_type": "code",
   "execution_count": 19,
   "id": "90282b38",
   "metadata": {},
   "outputs": [
    {
     "name": "stdout",
     "output_type": "stream",
     "text": [
      "1D array : \n",
      " [1 2 3 4 5]\n",
      "1D array(data type changed to float): \n",
      " [1. 2. 3. 4. 5.]\n",
      "2D array : \n",
      " [[1 2 3]\n",
      " [4 5 6]]\n"
     ]
    }
   ],
   "source": [
    "arr_1d = np.array([1,2,3,4,5])\n",
    "print(\"1D array : \\n\", arr_1d)\n",
    "\n",
    "arr2_1d = np.array([1,2,3,4,5],float)\n",
    "print(\"1D array(data type changed to float): \\n\", arr2_1d)\n",
    "\n",
    "arr_2d = np.array([[1,2,3],[4,5,6]])\n",
    "print(\"2D array : \\n\", arr_2d)"
   ]
  },
  {
   "cell_type": "markdown",
   "id": "fff99338",
   "metadata": {},
   "source": [
    "### List vs Numpy array\n",
    "\n",
    "To understand the difference, let's first learn the functions used:\n",
    "\n",
    "- **Python List `*`** → Makes the list repeat its elements.  \n",
    "- **NumPy Array `*`** → Multiplies each element by the given number(called scaler here).  \n",
    "- **`time.time()`** → Tells the current time in seconds.  \n",
    "- **List Comprehension** → Makes a new list by doing an operation on each item.  \n",
    "- **`np.arange()`** → Makes a list of numbers in order, stored as a NumPy array.  "
   ]
  },
  {
   "cell_type": "code",
   "execution_count": 20,
   "id": "37a1007e",
   "metadata": {},
   "outputs": [
    {
     "name": "stdout",
     "output_type": "stream",
     "text": [
      "Python List Multiplication :  [1, 2, 3, 1, 2, 3]\n",
      "Numpy Array Multiplication :  [2 4 6]\n",
      "\n",
      " List(python) operation time :  0.027761220932006836\n",
      "\n",
      " Array(numpy) operation time :  0.0008037090301513672\n"
     ]
    }
   ],
   "source": [
    "py_list = [1,2,3]\n",
    "print(\"Python List Multiplication : \", py_list * 2)\n",
    "\n",
    "np_array = np.array([1,2,3]) #element wise multiplication\n",
    "print(\"Numpy Array Multiplication : \", np_array * 2)\n",
    "\n",
    "#lets notice start time and end time of these multiplications to check the efficiency of both operations\n",
    "import time\n",
    "start = time.time()\n",
    "py_list = [i*2 for i in range(1000000)]\n",
    "print(\"\\n List(python) operation time : \", time.time()-start)\n",
    "\n",
    "start = time.time()\n",
    "np_array = np.arange(1000000) * 2\n",
    "print(\"\\n Array(numpy) operation time : \", time.time()-start)"
   ]
  },
  {
   "cell_type": "markdown",
   "id": "f19908a7",
   "metadata": {},
   "source": [
    "**Note:** NumPy is faster because it works on all elements at once using optimized code.\n",
    "\n",
    "Imagine you have to give chocolates to 1 million kids.\n",
    "\n",
    " **Python lists way →** You go to each kid one by one, hand them a chocolate, then go to the next. It takes a long time because you repeat the process for each child.\n",
    "\n",
    " **NumPy way →** You call all the kids together, and a super-fast machine hands chocolates to everyone at the same time. The machine is built in C language, which works much faster than you can by hand.\n",
    " \n",
    "That’s why NumPy finishes the job way quicker — it works on the whole group at once instead of one at a time.\n",
    "\n"
   ]
  },
  {
   "cell_type": "markdown",
   "id": "c6f14663",
   "metadata": {},
   "source": [
    "### Creating Array from scratch\n",
    "\n",
    "In this section, we explore some **array creation functions** provided by **NumPy**.\n",
    "\n",
    "1. `np.zeros(shape)`\n",
    "    - **Purpose:** Creates a new array filled entirely with **zeros**.\n",
    "    - **Parameters:** \n",
    "      - `shape` *(tuple)* → Dimensions of the array (rows, columns).\n",
    "    - **Example:** `np.zeros((3,4))` → Creates a **3×4 array** with all elements = `0.0`. <br> <br>\n",
    "\n",
    "2. `np.ones(shape)`\n",
    "    - **Purpose:** Creates a new array filled entirely with **ones**.\n",
    "    - **Parameters:**\n",
    "      - `shape` *(tuple)* → Dimensions of the array.\n",
    "    - **Example:** `np.ones((2,3))` → Creates a **2×3 array** with all elements = `1.0`. <br> <br>\n",
    "\n",
    "3. `np.full(shape, fill_value)`\n",
    "    - **Purpose:** Creates a new array where **all elements have the same specified value**.\n",
    "    - **Parameters:** \n",
    "      - `shape` *(tuple)* → Dimensions of the array.\n",
    "      - `fill_value` *(number)* → The value to fill.\n",
    "    - **Example:** `np.full((2,4), 7)` → Creates a **2×4 array** with all elements = `7`. <br> <br>\n",
    "\n",
    "4. `np.random.random(shape)`\n",
    "    - **Purpose:** Creates a new array filled with **random floating-point numbers** in the range `[0.0, 1.0)`.\n",
    "    - **Parameters:**\n",
    "      - `shape` *(tuple)* → Dimensions of the array.\n",
    "    - **Example:** `np.random.random((2,3))` → Creates a **2×3 array** with random values. <br> <br>\n",
    "\n",
    "5. `np.arange(start, stop, step)`\n",
    "    - **Purpose:** Creates a **1D array with evenly spaced values** within a given range.\n",
    "    - **Parameters:**\n",
    "      - `start` *(number)* → Starting value (inclusive).\n",
    "      - `stop` *(number)* → Ending value (exclusive).\n",
    "      - `step` *(number)* → Difference between consecutive values.\n",
    "    - **Example:** `np.arange(0, 11, 2)` → Creates `[0, 2, 4, 6, 8, 10]`.\n",
    "\n",
    " **Tip:** These functions are much faster and more convenient than creating lists manually, especially for large arrays."
   ]
  },
  {
   "cell_type": "code",
   "execution_count": 21,
   "id": "dcd7f6a5",
   "metadata": {},
   "outputs": [
    {
     "name": "stdout",
     "output_type": "stream",
     "text": [
      "\n",
      "Zeros Array : \n",
      " [[0. 0. 0. 0.]\n",
      " [0. 0. 0. 0.]\n",
      " [0. 0. 0. 0.]]\n",
      "\n",
      "Ones Array : \n",
      " [[1. 1. 1.]\n",
      " [1. 1. 1.]]\n",
      "\n",
      "Full Array : \n",
      " [[7 7 7 7]\n",
      " [7 7 7 7]]\n",
      "\n",
      "Random Array : \n",
      " [[0.90126779 0.21027683 0.82841696]\n",
      " [0.24560778 0.0315961  0.73137546]]\n",
      "\n",
      "Sequnce Array : \n",
      " [ 0  2  4  6  8 10]\n"
     ]
    }
   ],
   "source": [
    "zeros = np.zeros((3,4)) \n",
    "print(\"\\nZeros Array : \\n\", zeros)\n",
    "\n",
    "ones = np.ones((2,3))\n",
    "print(\"\\nOnes Array : \\n\", ones)\n",
    "\n",
    "full = np.full((2,4),7)\n",
    "print(\"\\nFull Array : \\n\", full)\n",
    "\n",
    "random = np.random.random((2,3))\n",
    "print(\"\\nRandom Array : \\n\", random)\n",
    "\n",
    "sequnce = np.arange(0,11,2)\n",
    "print(\"\\nSequnce Array : \\n\", sequnce)"
   ]
  },
  {
   "cell_type": "markdown",
   "id": "88769cf0",
   "metadata": {},
   "source": [
    "### Understanding Vector, Matrix, and Tensor in NumPy\n",
    "\n",
    "  **Vector** → A 1D array representing a list of numbers in one direction. <br>\n",
    "  **1D (Vector)** → Shape like `(n,)`  \n",
    "\n",
    "  **Matrix** → A 2D array of numbers arranged in rows and columns. <br>\n",
    "  **2D (Matrix)** → Shape like `(rows, columns)` \n",
    "\n",
    "  **Tensor** → A multi-dimensional array (3D or higher) of numbers. <br>\n",
    "  **3D+ (Tensor)** → Shape like `(depth, rows, columns)`"
   ]
  },
  {
   "cell_type": "code",
   "execution_count": 22,
   "id": "2e127484",
   "metadata": {},
   "outputs": [
    {
     "name": "stdout",
     "output_type": "stream",
     "text": [
      "\n",
      "Vector : \n",
      " [1 2 3]\n",
      "\n",
      "Matrix : \n",
      " [[1 2 3]\n",
      " [4 5 6]]\n",
      "\n",
      "Tensor : \n",
      " [[[1 2]\n",
      "  [3 4]\n",
      "  [5 6]]\n",
      "\n",
      " [[7 8]\n",
      "  [9 0]\n",
      "  [1 2]]\n",
      "\n",
      " [[3 4]\n",
      "  [5 6]\n",
      "  [7 8]]]\n"
     ]
    }
   ],
   "source": [
    "vector = np.array([1,2,3])\n",
    "print(\"\\nVector : \\n\", vector)\n",
    "\n",
    "matrix = np.array([[1,2,3],\n",
    "                   [4,5,6]])\n",
    "print(\"\\nMatrix : \\n\", matrix)\n",
    "\n",
    "tensor = np.array([[[1,2],[3,4],[5,6]],\n",
    "                   [[7,8],[9,0],[1,2]],\n",
    "                   [[3,4],[5,6],[7,8]]])\n",
    "print(\"\\nTensor : \\n\",tensor)"
   ]
  },
  {
   "cell_type": "markdown",
   "id": "211319a0",
   "metadata": {},
   "source": [
    "```\n",
    "Vector (1D)           Matrix (2D)              Tensor (3D)\n",
    "[1, 2, 3]             [[1, 2, 3],             [[[1, 2], [3, 4], [5, 6]],\n",
    "                       [4, 5, 6]]              [[7, 8], [9, 0], [1, 2]],\n",
    "                                               [[3, 4], [5, 6], [7, 8]]]\n",
    "```\n",
    "This way: <br>\n",
    "- Left → Simple row of numbers (vector). <br>\n",
    "- Middle → Numbers in rows and columns (matrix). <br>\n",
    "- Right → Stacked(one behind the other) matrices (tensor). <br>"
   ]
  },
  {
   "cell_type": "markdown",
   "id": "6b9e5aa9",
   "metadata": {},
   "source": [
    "### Array Attributes in NumPy\n",
    "\n",
    "1.\t**shape** – Returns a tuple showing the number of rows and columns in the array. <br>\n",
    "    Example: (2, 3) → 2 rows, 3 columns. <br> <br>\n",
    "2.\t**ndim** – Returns the number of dimensions of the array. <br>\n",
    "    Example: 2 → It’s a 2D array. <br> <br>\n",
    "3.\t**size** – Returns the total number of elements in the array. <br>\n",
    "    Example: 6 → 2 × 3 elements. <br> <br>\n",
    "4.\t**dtype** – Shows the data type of elements stored in the array. <br>\n",
    "    Example: int64, float32.\n",
    "\n",
    "**Note :** These attributes do not require parentheses because they are properties, not functions.\n"
   ]
  },
  {
   "cell_type": "code",
   "execution_count": 23,
   "id": "2060d99b",
   "metadata": {},
   "outputs": [
    {
     "name": "stdout",
     "output_type": "stream",
     "text": [
      "Shape :  (2, 3)\n",
      "Dimension :  2\n",
      "Size :  6\n",
      "Data Type :  int64\n"
     ]
    }
   ],
   "source": [
    "arr = np.array([[1,2,3],\n",
    "                [4,5,6]])\n",
    "print(\"Shape : \", arr.shape)\n",
    "print(\"Dimension : \", arr.ndim)\n",
    "print(\"Size : \", arr.size)\n",
    "print(\"Data Type : \", arr.dtype)"
   ]
  },
  {
   "cell_type": "markdown",
   "id": "99cfd185",
   "metadata": {},
   "source": [
    "**Why similar data types?** <br>\n",
    "NumPy arrays are designed for speed and efficiency. Storing all elements in the same data type allows them to be placed in contiguous memory blocks, making mathematical operations faster and reducing memory usage compared to Python lists with mixed data types. <br>\n",
    "Although NumPy can store elements of different types (using dtype=object), this removes the performance benefits because data is no longer stored contiguously. We prefer similar types to take full advantage of vectorization and C-level optimizations."
   ]
  },
  {
   "cell_type": "markdown",
   "id": "b1113c38",
   "metadata": {},
   "source": [
    "### Array Reshaping\n",
    "\n",
    "- **`reshape(new_shape)`** → Changes the shape of the array without changing its data.  \n",
    "  *Example:* Turn a 1D array into 2D. Often returns a **view** (no data copied).\n",
    "\n",
    "- **`flatten()`** → Converts any array into a 1D array **copy**.  \n",
    "  Changes made to the new array **won’t affect** the original.\n",
    "\n",
    "- **`ravel()`** → Converts any array into a 1D array **view** when possible.  \n",
    "  Changes to this view **will affect** the original array.  \n",
    "  Only makes a copy when a view isn’t possible (non-contiguous data)."
   ]
  },
  {
   "cell_type": "code",
   "execution_count": 24,
   "id": "49cfe010",
   "metadata": {},
   "outputs": [
    {
     "name": "stdout",
     "output_type": "stream",
     "text": [
      "\n",
      "Original array : \n",
      " [ 0  1  2  3  4  5  6  7  8  9 10 11]\n",
      "\n",
      "Reshaped array : \n",
      " [[ 0  1  2  3]\n",
      " [ 4  5  6  7]\n",
      " [ 8  9 10 11]]\n",
      "\n",
      "Flattened array : \n",
      " [ 0  1  2  3  4  5  6  7  8  9 10 11]\n",
      "\n",
      "Raveled array : \n",
      " [ 0  1  2  3  4  5  6  7  8  9 10 11]\n"
     ]
    }
   ],
   "source": [
    "arr = np.arange(12)\n",
    "print(\"\\nOriginal array : \\n\", arr)\n",
    "\n",
    "reshaped = arr.reshape([3,4])\n",
    "print(\"\\nReshaped array : \\n\", reshaped)\n",
    "\n",
    "flattened = reshaped.flatten()\n",
    "print(\"\\nFlattened array : \\n\",flattened)\n",
    "\n",
    "raveled = reshaped.ravel()\n",
    "print(\"\\nRaveled array : \\n\", raveled)"
   ]
  },
  {
   "cell_type": "markdown",
   "id": "b015feb1",
   "metadata": {},
   "source": [
    "#### Difference between ravel and flatten\n",
    "\n",
    "**Imagine :** You have a math notebook with problems arranged in 2 rows and 3 columns: <br>\n",
    "Page 1 : 1   2   3 <br>\n",
    "Page 2 : 4   5   6 <br> <br>\n",
    "**flatten() → photocopy** <br>\n",
    "\t•\tYou make a photocopy of the notebook. <br>\n",
    "\t•\tNow you can rip pages, scribble, or erase in the copy — your original stays safe. <br>\n",
    "\t•\tAlways makes a brand-new notebook. <br> <br>\n",
    "**ravel() → rearranging your real notebook** <br>\n",
    "\t•\tYou tear out the original pages and lay them all in a single straight line. <br>\n",
    "\t•\tIf you write something on this line, the same thing shows up in the original notebook because it’s literally the same pages, just laid out differently. <br>\n",
    "\t•\tNo copy made — unless your pages were cut up weirdly before, in which case NumPy secretly makes a new notebook so it can put them in order (Like if your notebook pages were cut into little pieces and scattered, you’d have to rewrite them neatly before laying them in a line).\n",
    "\n",
    "\n",
    "##### **Key differences (short)**\n",
    "  **reshape() →** change shape; usually a view (no copy). <br>\n",
    "  **flatten() →** always returns a copy (safe, independent). <br>\n",
    "  **ravel() →** returns a view if possible, otherwise a copy (fast when view). <br> \n",
    "\n",
    "##### **When to use which**\n",
    "  **Use ravel()** for speed when you don’t need an independent array. <br>\n",
    "  **Use flatten()** when you must keep the original unchanged. <br>\n",
    "  **Use reshape()** to change dimensions without copying (most efficient). <br> "
   ]
  },
  {
   "cell_type": "markdown",
   "id": "f0c371fd",
   "metadata": {},
   "source": [
    "### Transpose\n",
    "\n",
    "- **`arr.T`** → Returns the **transpose** of the array.  \n",
    "- Transpose means **flipping rows into columns** and **columns into rows**.  \n",
    "- Works for both 2D and higher-dimensional arrays.  "
   ]
  },
  {
   "cell_type": "code",
   "execution_count": 25,
   "id": "02e1eed6",
   "metadata": {},
   "outputs": [
    {
     "name": "stdout",
     "output_type": "stream",
     "text": [
      "\n",
      "Transposed array : \n",
      " [[1 4]\n",
      " [2 5]\n",
      " [3 6]]\n"
     ]
    }
   ],
   "source": [
    "arr = np.array([[1,2,3],\n",
    "                [4,5,6]])\n",
    "transpose = arr.T\n",
    "print(\"\\nTransposed array : \\n\", transpose)"
   ]
  },
  {
   "cell_type": "markdown",
   "id": "cd92d8a4",
   "metadata": {},
   "source": [
    "- Does not copy data — usually returns a **view**. <br> \n",
    "when you do arr.T, NumPy doesn’t actually move the numbers around in memory.\n",
    "It just changes the way it looks at them — like turning your notebook sideways instead of rewriting it."
   ]
  }
 ],
 "metadata": {
  "kernelspec": {
   "display_name": "venv",
   "language": "python",
   "name": "python3"
  },
  "language_info": {
   "codemirror_mode": {
    "name": "ipython",
    "version": 3
   },
   "file_extension": ".py",
   "mimetype": "text/x-python",
   "name": "python",
   "nbconvert_exporter": "python",
   "pygments_lexer": "ipython3",
   "version": "3.9.6"
  }
 },
 "nbformat": 4,
 "nbformat_minor": 5
}
